{
  "nbformat": 4,
  "nbformat_minor": 0,
  "metadata": {
    "colab": {
      "name": "Iran Nomric to GPA PARSA VARES.ipynb",
      "provenance": [],
      "authorship_tag": "ABX9TyPT5K6lRk2Ot5s12I95Kg0d",
      "include_colab_link": true
    },
    "kernelspec": {
      "name": "python3",
      "display_name": "Python 3"
    },
    "language_info": {
      "name": "python"
    }
  },
  "cells": [
    {
      "cell_type": "markdown",
      "metadata": {
        "id": "view-in-github",
        "colab_type": "text"
      },
      "source": [
        "<a href=\"https://colab.research.google.com/github/parsavares/Iran-nomric-to-USA-GPA/blob/main/Iran_Nomric_to_GPA_PARSA_VARES.ipynb\" target=\"_parent\"><img src=\"https://colab.research.google.com/assets/colab-badge.svg\" alt=\"Open In Colab\"/></a>"
      ]
    },
    {
      "cell_type": "markdown",
      "source": [
        "#**Convert Persian (Iran) Nomric system ~~> GPA**\n",
        "##Author: Parsa Vares \n",
        "\n",
        "---\n",
        "🐺\n",
        "\n"
      ],
      "metadata": {
        "id": "LvGAFzNQvpad"
      }
    },
    {
      "cell_type": "code",
      "source": [
        "import numpy as np\n",
        "sum = zarib = 0.0\n",
        "gpan=np.zeros(100)\n",
        "z=np.zeros(100)\n",
        "n=np.zeros(100)\n",
        "for i in range(100):\n",
        "    z[i]=input(\"zaribe [\"+str(i)+\"] = \")\n",
        "    if z[i]==0:\n",
        "        GPA= (sum/zarib)\n",
        "        print(\"GPA = \" , GPA )\n",
        "        break\n",
        "    zarib = zarib + (z[i])\n",
        "    #print (zarib)\n",
        "    n[i]=input()\n",
        "    if 16.00<=n[i]<=20.00:\n",
        "        gpan[i]=4\n",
        "    if 14.00<=n[i]<=15.99:\n",
        "        gpan[i]=3\n",
        "    if 12.00<=n[i]<=13.99:\n",
        "        gpan[i]=2\n",
        "    if 10.00<=n[i]<=11.99:\n",
        "        gpan[i]=1\n",
        "    #print(sum)\n",
        "    print(\"USA GRADE = \" + str(gpan[i]))\n",
        "    print(\"vahede gozarande = \" + str(zarib))\n",
        "    sum = sum + (gpan[i]*z[i])\n",
        "    #print (sum)3"
      ],
      "metadata": {
        "id": "R3ug60PO4cRB"
      },
      "execution_count": null,
      "outputs": []
    }
  ]
}